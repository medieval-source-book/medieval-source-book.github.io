{
 "cells": [
  {
   "cell_type": "code",
   "execution_count": null,
   "id": "2d0d07ee",
   "metadata": {},
   "outputs": [],
   "source": [
    "import re\n",
    "import pandas as pd\n",
    "\n",
    "# Read the input file\n",
    "with open('articles.txt', 'r') as file:\n",
    "    lines = file.readlines()\n",
    "\n",
    "# Extract title, year, and author from each line\n",
    "data = []\n",
    "for line in lines:\n",
    "    match = re.search(r'Article\\s+(\\w+)\\s+\\((\\d+)\\)\\s+(.*)', line)\n",
    "    if match:\n",
    "        title = match.group(1)\n",
    "        year = match.group(2)\n",
    "        author = match.group(3).strip()\n",
    "        data.append({'Title': title, 'Year': year, 'Author': author})\n",
    "\n",
    "# Create a pandas DataFrame\n",
    "df = pd.DataFrame(data)\n",
    "\n",
    "# Save the DataFrame to a spreadsheet\n",
    "df.to_excel('output.xlsx', index=False)"
   ]
  }
 ],
 "metadata": {
  "language_info": {
   "name": "python"
  }
 },
 "nbformat": 4,
 "nbformat_minor": 5
}
